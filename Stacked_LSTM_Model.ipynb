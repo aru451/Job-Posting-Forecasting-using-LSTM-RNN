{
  "cells": [
    {
      "cell_type": "markdown",
      "id": "be4f077b",
      "metadata": {
        "id": "be4f077b"
      },
      "source": [
        "# Job Posting Volume Forecasting using LSTM\n",
        "\n",
        "Forecast daily job postings using real data from Kaggle (Indeed USA) and LSTM deep learning."
      ]
    },
    {
      "cell_type": "code",
      "execution_count": null,
      "id": "8d07ded4",
      "metadata": {
        "id": "8d07ded4"
      },
      "outputs": [],
      "source": [
        "import numpy as np\n",
        "import pandas as pd\n",
        "import matplotlib.pyplot as plt"
      ]
    },
    {
      "cell_type": "markdown",
      "id": "3ac670fd",
      "metadata": {
        "id": "3ac670fd"
      },
      "source": [
        "###Load and Prepare Data"
      ]
    },
    {
      "cell_type": "code",
      "execution_count": null,
      "id": "f686e6cb",
      "metadata": {
        "id": "f686e6cb"
      },
      "outputs": [],
      "source": [
        "df = pd.read_csv('/content/data_science_jobs_indeed_usa.csv')"
      ]
    },
    {
      "cell_type": "code",
      "source": [
        "df.sample(10)"
      ],
      "metadata": {
        "colab": {
          "base_uri": "https://localhost:8080/",
          "height": 938
        },
        "id": "HfCot3wyuKVx",
        "outputId": "c0bf4732-4e96-4c54-f70e-c29a2ffea455"
      },
      "id": "HfCot3wyuKVx",
      "execution_count": null,
      "outputs": [
        {
          "output_type": "execute_result",
          "data": {
            "text/plain": [
              "      Unnamed: 0                                           Title  \\\n",
              "205          205                                Data Engineer II   \n",
              "18            18                Director of CRM & Data Analytics   \n",
              "624          624                Data Scientist (Fintech Company)   \n",
              "116          116                                   Data Engineer   \n",
              "953          953                               ETL Data Engineer   \n",
              "1176        1176  Software Engineer, Machine Learning Foundation   \n",
              "1151        1151                             Azure Data Engineer   \n",
              "778          778                             Azure Data Engineer   \n",
              "1019        1019                                   Data Engineer   \n",
              "981          981  Senior Product Manager - Analytics, AI, & Data   \n",
              "\n",
              "                       Company  \\\n",
              "205             Nexintech Inc.   \n",
              "18    Ambassador Theatre Group   \n",
              "624       Softdev Integrations   \n",
              "116          CGATE Corporation   \n",
              "953                Gridiron IT   \n",
              "1176                 Pinterest   \n",
              "1151         Agiles Enterprise   \n",
              "778                iQuasar LLC   \n",
              "1019                   Unbound   \n",
              "981                     Intuit   \n",
              "\n",
              "                                               Location  Rating  \\\n",
              "205                               Playa Vista, CA 90094     NaN   \n",
              "18             New York, NY 10036 (Hell's Kitchen area)     3.7   \n",
              "624                 Las Vegas, NV 89101 (Downtown area)     NaN   \n",
              "116                                              Remote     NaN   \n",
              "953                                              Remote     4.0   \n",
              "1176                                 +2 locationsRemote     4.2   \n",
              "1151                                             Remote     NaN   \n",
              "778                                   +1 locationRemote     NaN   \n",
              "1019                                       San Jose, CA     4.3   \n",
              "981   San Diego, CA 92129 (Torrey Highlands area)+2 ...     4.2   \n",
              "\n",
              "                           Date                      Salary  \\\n",
              "205     PostedPosted 3 days ago           $60 - $72 an hour   \n",
              "18     PostedPosted 13 days ago  $130,000 - $140,000 a year   \n",
              "624    PostedPosted 21 days ago    $50,000 - $75,000 a year   \n",
              "116    PostedPosted 18 days ago           $60 - $65 an hour   \n",
              "953   EmployerActive 4 days ago  $150,000 - $170,000 a year   \n",
              "1176  PostedPosted 30+ days ago  $155,300 - $232,900 a year   \n",
              "1151  EmployerActive 9 days ago   $84,107 - $190,641 a year   \n",
              "778     PostedPosted 2 days ago           $55 - $90 an hour   \n",
              "1019    PostedPosted 5 days ago  $150,000 - $180,000 a year   \n",
              "981     PostedPosted 4 days ago                         NaN   \n",
              "\n",
              "                                            Description  \\\n",
              "205   Data ETL processes: 3 years (Required).\\nColla...   \n",
              "18    Collaborate with central team data science, in...   \n",
              "624   Present information using data visualization t...   \n",
              "116   Experience performing data analysis and data e...   \n",
              "953   Experience with automated data integration and...   \n",
              "1176  Work with internal customers, ML engineers, an...   \n",
              "1151  Candidates should be really strong in Python a...   \n",
              "778   Extensive hands-on experience implementing dat...   \n",
              "1019  Design and build modern data pipelines, data s...   \n",
              "981   In depth knowledge of data products, data pipe...   \n",
              "\n",
              "                                                  Links  \\\n",
              "205   https://www.indeed.com/company/Nexintech-Inc./...   \n",
              "18    https://www.indeed.com/rc/clk?jk=2c74a47ca7c1b...   \n",
              "624   https://www.indeed.com/company/Softdev-Integra...   \n",
              "116   https://www.indeed.com/company/CGATE/jobs/Data...   \n",
              "953   https://www.indeed.com/company/Gridiron-IT/job...   \n",
              "1176  https://www.indeed.com/rc/clk?jk=8bdd2924002ce...   \n",
              "1151  https://www.indeed.com/company/Prescient/jobs/...   \n",
              "778   https://www.indeed.com/company/iQuasar-LLC/job...   \n",
              "1019  https://www.indeed.com/company/Unbound/jobs/Da...   \n",
              "981   https://www.indeed.com/rc/clk?jk=5aa8cd165c570...   \n",
              "\n",
              "                                           Descriptions  \n",
              "205   Summary:\\nThe main function of the Data Engine...  \n",
              "18    POSITION: Director of CRM & Data Analytics\\nLO...  \n",
              "624   We are looking for a Data Scientist to analyze...  \n",
              "116   Location: 100% Remote\\nDuration: Long Term\\nVi...  \n",
              "953   Gridiron IT is seeking a CCTE Data Engineer to...  \n",
              "1176  About Pinterest:\\nMillions of people across th...  \n",
              "1151  Databricks (s.Python, sql)\\nCandidates should ...  \n",
              "778   Job responsibilities include:\\nCreate cloud da...  \n",
              "1019  What is expected of you?\\nYou design data solu...  \n",
              "981   Overview\\nIntuit is a global technology platfo...  "
            ],
            "text/html": [
              "\n",
              "  <div id=\"df-ac1defd9-7ad3-4513-bef8-b1f51100deca\" class=\"colab-df-container\">\n",
              "    <div>\n",
              "<style scoped>\n",
              "    .dataframe tbody tr th:only-of-type {\n",
              "        vertical-align: middle;\n",
              "    }\n",
              "\n",
              "    .dataframe tbody tr th {\n",
              "        vertical-align: top;\n",
              "    }\n",
              "\n",
              "    .dataframe thead th {\n",
              "        text-align: right;\n",
              "    }\n",
              "</style>\n",
              "<table border=\"1\" class=\"dataframe\">\n",
              "  <thead>\n",
              "    <tr style=\"text-align: right;\">\n",
              "      <th></th>\n",
              "      <th>Unnamed: 0</th>\n",
              "      <th>Title</th>\n",
              "      <th>Company</th>\n",
              "      <th>Location</th>\n",
              "      <th>Rating</th>\n",
              "      <th>Date</th>\n",
              "      <th>Salary</th>\n",
              "      <th>Description</th>\n",
              "      <th>Links</th>\n",
              "      <th>Descriptions</th>\n",
              "    </tr>\n",
              "  </thead>\n",
              "  <tbody>\n",
              "    <tr>\n",
              "      <th>205</th>\n",
              "      <td>205</td>\n",
              "      <td>Data Engineer II</td>\n",
              "      <td>Nexintech Inc.</td>\n",
              "      <td>Playa Vista, CA 90094</td>\n",
              "      <td>NaN</td>\n",
              "      <td>PostedPosted 3 days ago</td>\n",
              "      <td>$60 - $72 an hour</td>\n",
              "      <td>Data ETL processes: 3 years (Required).\\nColla...</td>\n",
              "      <td>https://www.indeed.com/company/Nexintech-Inc./...</td>\n",
              "      <td>Summary:\\nThe main function of the Data Engine...</td>\n",
              "    </tr>\n",
              "    <tr>\n",
              "      <th>18</th>\n",
              "      <td>18</td>\n",
              "      <td>Director of CRM &amp; Data Analytics</td>\n",
              "      <td>Ambassador Theatre Group</td>\n",
              "      <td>New York, NY 10036 (Hell's Kitchen area)</td>\n",
              "      <td>3.7</td>\n",
              "      <td>PostedPosted 13 days ago</td>\n",
              "      <td>$130,000 - $140,000 a year</td>\n",
              "      <td>Collaborate with central team data science, in...</td>\n",
              "      <td>https://www.indeed.com/rc/clk?jk=2c74a47ca7c1b...</td>\n",
              "      <td>POSITION: Director of CRM &amp; Data Analytics\\nLO...</td>\n",
              "    </tr>\n",
              "    <tr>\n",
              "      <th>624</th>\n",
              "      <td>624</td>\n",
              "      <td>Data Scientist (Fintech Company)</td>\n",
              "      <td>Softdev Integrations</td>\n",
              "      <td>Las Vegas, NV 89101 (Downtown area)</td>\n",
              "      <td>NaN</td>\n",
              "      <td>PostedPosted 21 days ago</td>\n",
              "      <td>$50,000 - $75,000 a year</td>\n",
              "      <td>Present information using data visualization t...</td>\n",
              "      <td>https://www.indeed.com/company/Softdev-Integra...</td>\n",
              "      <td>We are looking for a Data Scientist to analyze...</td>\n",
              "    </tr>\n",
              "    <tr>\n",
              "      <th>116</th>\n",
              "      <td>116</td>\n",
              "      <td>Data Engineer</td>\n",
              "      <td>CGATE Corporation</td>\n",
              "      <td>Remote</td>\n",
              "      <td>NaN</td>\n",
              "      <td>PostedPosted 18 days ago</td>\n",
              "      <td>$60 - $65 an hour</td>\n",
              "      <td>Experience performing data analysis and data e...</td>\n",
              "      <td>https://www.indeed.com/company/CGATE/jobs/Data...</td>\n",
              "      <td>Location: 100% Remote\\nDuration: Long Term\\nVi...</td>\n",
              "    </tr>\n",
              "    <tr>\n",
              "      <th>953</th>\n",
              "      <td>953</td>\n",
              "      <td>ETL Data Engineer</td>\n",
              "      <td>Gridiron IT</td>\n",
              "      <td>Remote</td>\n",
              "      <td>4.0</td>\n",
              "      <td>EmployerActive 4 days ago</td>\n",
              "      <td>$150,000 - $170,000 a year</td>\n",
              "      <td>Experience with automated data integration and...</td>\n",
              "      <td>https://www.indeed.com/company/Gridiron-IT/job...</td>\n",
              "      <td>Gridiron IT is seeking a CCTE Data Engineer to...</td>\n",
              "    </tr>\n",
              "    <tr>\n",
              "      <th>1176</th>\n",
              "      <td>1176</td>\n",
              "      <td>Software Engineer, Machine Learning Foundation</td>\n",
              "      <td>Pinterest</td>\n",
              "      <td>+2 locationsRemote</td>\n",
              "      <td>4.2</td>\n",
              "      <td>PostedPosted 30+ days ago</td>\n",
              "      <td>$155,300 - $232,900 a year</td>\n",
              "      <td>Work with internal customers, ML engineers, an...</td>\n",
              "      <td>https://www.indeed.com/rc/clk?jk=8bdd2924002ce...</td>\n",
              "      <td>About Pinterest:\\nMillions of people across th...</td>\n",
              "    </tr>\n",
              "    <tr>\n",
              "      <th>1151</th>\n",
              "      <td>1151</td>\n",
              "      <td>Azure Data Engineer</td>\n",
              "      <td>Agiles Enterprise</td>\n",
              "      <td>Remote</td>\n",
              "      <td>NaN</td>\n",
              "      <td>EmployerActive 9 days ago</td>\n",
              "      <td>$84,107 - $190,641 a year</td>\n",
              "      <td>Candidates should be really strong in Python a...</td>\n",
              "      <td>https://www.indeed.com/company/Prescient/jobs/...</td>\n",
              "      <td>Databricks (s.Python, sql)\\nCandidates should ...</td>\n",
              "    </tr>\n",
              "    <tr>\n",
              "      <th>778</th>\n",
              "      <td>778</td>\n",
              "      <td>Azure Data Engineer</td>\n",
              "      <td>iQuasar LLC</td>\n",
              "      <td>+1 locationRemote</td>\n",
              "      <td>NaN</td>\n",
              "      <td>PostedPosted 2 days ago</td>\n",
              "      <td>$55 - $90 an hour</td>\n",
              "      <td>Extensive hands-on experience implementing dat...</td>\n",
              "      <td>https://www.indeed.com/company/iQuasar-LLC/job...</td>\n",
              "      <td>Job responsibilities include:\\nCreate cloud da...</td>\n",
              "    </tr>\n",
              "    <tr>\n",
              "      <th>1019</th>\n",
              "      <td>1019</td>\n",
              "      <td>Data Engineer</td>\n",
              "      <td>Unbound</td>\n",
              "      <td>San Jose, CA</td>\n",
              "      <td>4.3</td>\n",
              "      <td>PostedPosted 5 days ago</td>\n",
              "      <td>$150,000 - $180,000 a year</td>\n",
              "      <td>Design and build modern data pipelines, data s...</td>\n",
              "      <td>https://www.indeed.com/company/Unbound/jobs/Da...</td>\n",
              "      <td>What is expected of you?\\nYou design data solu...</td>\n",
              "    </tr>\n",
              "    <tr>\n",
              "      <th>981</th>\n",
              "      <td>981</td>\n",
              "      <td>Senior Product Manager - Analytics, AI, &amp; Data</td>\n",
              "      <td>Intuit</td>\n",
              "      <td>San Diego, CA 92129 (Torrey Highlands area)+2 ...</td>\n",
              "      <td>4.2</td>\n",
              "      <td>PostedPosted 4 days ago</td>\n",
              "      <td>NaN</td>\n",
              "      <td>In depth knowledge of data products, data pipe...</td>\n",
              "      <td>https://www.indeed.com/rc/clk?jk=5aa8cd165c570...</td>\n",
              "      <td>Overview\\nIntuit is a global technology platfo...</td>\n",
              "    </tr>\n",
              "  </tbody>\n",
              "</table>\n",
              "</div>\n",
              "    <div class=\"colab-df-buttons\">\n",
              "\n",
              "  <div class=\"colab-df-container\">\n",
              "    <button class=\"colab-df-convert\" onclick=\"convertToInteractive('df-ac1defd9-7ad3-4513-bef8-b1f51100deca')\"\n",
              "            title=\"Convert this dataframe to an interactive table.\"\n",
              "            style=\"display:none;\">\n",
              "\n",
              "  <svg xmlns=\"http://www.w3.org/2000/svg\" height=\"24px\" viewBox=\"0 -960 960 960\">\n",
              "    <path d=\"M120-120v-720h720v720H120Zm60-500h600v-160H180v160Zm220 220h160v-160H400v160Zm0 220h160v-160H400v160ZM180-400h160v-160H180v160Zm440 0h160v-160H620v160ZM180-180h160v-160H180v160Zm440 0h160v-160H620v160Z\"/>\n",
              "  </svg>\n",
              "    </button>\n",
              "\n",
              "  <style>\n",
              "    .colab-df-container {\n",
              "      display:flex;\n",
              "      gap: 12px;\n",
              "    }\n",
              "\n",
              "    .colab-df-convert {\n",
              "      background-color: #E8F0FE;\n",
              "      border: none;\n",
              "      border-radius: 50%;\n",
              "      cursor: pointer;\n",
              "      display: none;\n",
              "      fill: #1967D2;\n",
              "      height: 32px;\n",
              "      padding: 0 0 0 0;\n",
              "      width: 32px;\n",
              "    }\n",
              "\n",
              "    .colab-df-convert:hover {\n",
              "      background-color: #E2EBFA;\n",
              "      box-shadow: 0px 1px 2px rgba(60, 64, 67, 0.3), 0px 1px 3px 1px rgba(60, 64, 67, 0.15);\n",
              "      fill: #174EA6;\n",
              "    }\n",
              "\n",
              "    .colab-df-buttons div {\n",
              "      margin-bottom: 4px;\n",
              "    }\n",
              "\n",
              "    [theme=dark] .colab-df-convert {\n",
              "      background-color: #3B4455;\n",
              "      fill: #D2E3FC;\n",
              "    }\n",
              "\n",
              "    [theme=dark] .colab-df-convert:hover {\n",
              "      background-color: #434B5C;\n",
              "      box-shadow: 0px 1px 3px 1px rgba(0, 0, 0, 0.15);\n",
              "      filter: drop-shadow(0px 1px 2px rgba(0, 0, 0, 0.3));\n",
              "      fill: #FFFFFF;\n",
              "    }\n",
              "  </style>\n",
              "\n",
              "    <script>\n",
              "      const buttonEl =\n",
              "        document.querySelector('#df-ac1defd9-7ad3-4513-bef8-b1f51100deca button.colab-df-convert');\n",
              "      buttonEl.style.display =\n",
              "        google.colab.kernel.accessAllowed ? 'block' : 'none';\n",
              "\n",
              "      async function convertToInteractive(key) {\n",
              "        const element = document.querySelector('#df-ac1defd9-7ad3-4513-bef8-b1f51100deca');\n",
              "        const dataTable =\n",
              "          await google.colab.kernel.invokeFunction('convertToInteractive',\n",
              "                                                    [key], {});\n",
              "        if (!dataTable) return;\n",
              "\n",
              "        const docLinkHtml = 'Like what you see? Visit the ' +\n",
              "          '<a target=\"_blank\" href=https://colab.research.google.com/notebooks/data_table.ipynb>data table notebook</a>'\n",
              "          + ' to learn more about interactive tables.';\n",
              "        element.innerHTML = '';\n",
              "        dataTable['output_type'] = 'display_data';\n",
              "        await google.colab.output.renderOutput(dataTable, element);\n",
              "        const docLink = document.createElement('div');\n",
              "        docLink.innerHTML = docLinkHtml;\n",
              "        element.appendChild(docLink);\n",
              "      }\n",
              "    </script>\n",
              "  </div>\n",
              "\n",
              "\n",
              "    <div id=\"df-b768f952-b39b-4aa2-af16-ea5e8cfa4bc2\">\n",
              "      <button class=\"colab-df-quickchart\" onclick=\"quickchart('df-b768f952-b39b-4aa2-af16-ea5e8cfa4bc2')\"\n",
              "                title=\"Suggest charts\"\n",
              "                style=\"display:none;\">\n",
              "\n",
              "<svg xmlns=\"http://www.w3.org/2000/svg\" height=\"24px\"viewBox=\"0 0 24 24\"\n",
              "     width=\"24px\">\n",
              "    <g>\n",
              "        <path d=\"M19 3H5c-1.1 0-2 .9-2 2v14c0 1.1.9 2 2 2h14c1.1 0 2-.9 2-2V5c0-1.1-.9-2-2-2zM9 17H7v-7h2v7zm4 0h-2V7h2v10zm4 0h-2v-4h2v4z\"/>\n",
              "    </g>\n",
              "</svg>\n",
              "      </button>\n",
              "\n",
              "<style>\n",
              "  .colab-df-quickchart {\n",
              "      --bg-color: #E8F0FE;\n",
              "      --fill-color: #1967D2;\n",
              "      --hover-bg-color: #E2EBFA;\n",
              "      --hover-fill-color: #174EA6;\n",
              "      --disabled-fill-color: #AAA;\n",
              "      --disabled-bg-color: #DDD;\n",
              "  }\n",
              "\n",
              "  [theme=dark] .colab-df-quickchart {\n",
              "      --bg-color: #3B4455;\n",
              "      --fill-color: #D2E3FC;\n",
              "      --hover-bg-color: #434B5C;\n",
              "      --hover-fill-color: #FFFFFF;\n",
              "      --disabled-bg-color: #3B4455;\n",
              "      --disabled-fill-color: #666;\n",
              "  }\n",
              "\n",
              "  .colab-df-quickchart {\n",
              "    background-color: var(--bg-color);\n",
              "    border: none;\n",
              "    border-radius: 50%;\n",
              "    cursor: pointer;\n",
              "    display: none;\n",
              "    fill: var(--fill-color);\n",
              "    height: 32px;\n",
              "    padding: 0;\n",
              "    width: 32px;\n",
              "  }\n",
              "\n",
              "  .colab-df-quickchart:hover {\n",
              "    background-color: var(--hover-bg-color);\n",
              "    box-shadow: 0 1px 2px rgba(60, 64, 67, 0.3), 0 1px 3px 1px rgba(60, 64, 67, 0.15);\n",
              "    fill: var(--button-hover-fill-color);\n",
              "  }\n",
              "\n",
              "  .colab-df-quickchart-complete:disabled,\n",
              "  .colab-df-quickchart-complete:disabled:hover {\n",
              "    background-color: var(--disabled-bg-color);\n",
              "    fill: var(--disabled-fill-color);\n",
              "    box-shadow: none;\n",
              "  }\n",
              "\n",
              "  .colab-df-spinner {\n",
              "    border: 2px solid var(--fill-color);\n",
              "    border-color: transparent;\n",
              "    border-bottom-color: var(--fill-color);\n",
              "    animation:\n",
              "      spin 1s steps(1) infinite;\n",
              "  }\n",
              "\n",
              "  @keyframes spin {\n",
              "    0% {\n",
              "      border-color: transparent;\n",
              "      border-bottom-color: var(--fill-color);\n",
              "      border-left-color: var(--fill-color);\n",
              "    }\n",
              "    20% {\n",
              "      border-color: transparent;\n",
              "      border-left-color: var(--fill-color);\n",
              "      border-top-color: var(--fill-color);\n",
              "    }\n",
              "    30% {\n",
              "      border-color: transparent;\n",
              "      border-left-color: var(--fill-color);\n",
              "      border-top-color: var(--fill-color);\n",
              "      border-right-color: var(--fill-color);\n",
              "    }\n",
              "    40% {\n",
              "      border-color: transparent;\n",
              "      border-right-color: var(--fill-color);\n",
              "      border-top-color: var(--fill-color);\n",
              "    }\n",
              "    60% {\n",
              "      border-color: transparent;\n",
              "      border-right-color: var(--fill-color);\n",
              "    }\n",
              "    80% {\n",
              "      border-color: transparent;\n",
              "      border-right-color: var(--fill-color);\n",
              "      border-bottom-color: var(--fill-color);\n",
              "    }\n",
              "    90% {\n",
              "      border-color: transparent;\n",
              "      border-bottom-color: var(--fill-color);\n",
              "    }\n",
              "  }\n",
              "</style>\n",
              "\n",
              "      <script>\n",
              "        async function quickchart(key) {\n",
              "          const quickchartButtonEl =\n",
              "            document.querySelector('#' + key + ' button');\n",
              "          quickchartButtonEl.disabled = true;  // To prevent multiple clicks.\n",
              "          quickchartButtonEl.classList.add('colab-df-spinner');\n",
              "          try {\n",
              "            const charts = await google.colab.kernel.invokeFunction(\n",
              "                'suggestCharts', [key], {});\n",
              "          } catch (error) {\n",
              "            console.error('Error during call to suggestCharts:', error);\n",
              "          }\n",
              "          quickchartButtonEl.classList.remove('colab-df-spinner');\n",
              "          quickchartButtonEl.classList.add('colab-df-quickchart-complete');\n",
              "        }\n",
              "        (() => {\n",
              "          let quickchartButtonEl =\n",
              "            document.querySelector('#df-b768f952-b39b-4aa2-af16-ea5e8cfa4bc2 button');\n",
              "          quickchartButtonEl.style.display =\n",
              "            google.colab.kernel.accessAllowed ? 'block' : 'none';\n",
              "        })();\n",
              "      </script>\n",
              "    </div>\n",
              "\n",
              "    </div>\n",
              "  </div>\n"
            ],
            "application/vnd.google.colaboratory.intrinsic+json": {
              "type": "dataframe",
              "summary": "{\n  \"name\": \"df\",\n  \"rows\": 10,\n  \"fields\": [\n    {\n      \"column\": \"Unnamed: 0\",\n      \"properties\": {\n        \"dtype\": \"number\",\n        \"std\": 439,\n        \"min\": 18,\n        \"max\": 1176,\n        \"num_unique_values\": 10,\n        \"samples\": [\n          1019,\n          18,\n          1176\n        ],\n        \"semantic_type\": \"\",\n        \"description\": \"\"\n      }\n    },\n    {\n      \"column\": \"Title\",\n      \"properties\": {\n        \"dtype\": \"string\",\n        \"num_unique_values\": 8,\n        \"samples\": [\n          \"Director of CRM & Data Analytics\",\n          \"Software Engineer, Machine Learning Foundation\",\n          \"Data Engineer II\"\n        ],\n        \"semantic_type\": \"\",\n        \"description\": \"\"\n      }\n    },\n    {\n      \"column\": \"Company\",\n      \"properties\": {\n        \"dtype\": \"string\",\n        \"num_unique_values\": 10,\n        \"samples\": [\n          \"Unbound\",\n          \"Ambassador Theatre Group\",\n          \"Pinterest\"\n        ],\n        \"semantic_type\": \"\",\n        \"description\": \"\"\n      }\n    },\n    {\n      \"column\": \"Location\",\n      \"properties\": {\n        \"dtype\": \"string\",\n        \"num_unique_values\": 8,\n        \"samples\": [\n          \"New York, NY 10036\\u00a0(Hell's Kitchen area)\",\n          \"+1 locationRemote\",\n          \"Playa Vista, CA 90094\"\n        ],\n        \"semantic_type\": \"\",\n        \"description\": \"\"\n      }\n    },\n    {\n      \"column\": \"Rating\",\n      \"properties\": {\n        \"dtype\": \"number\",\n        \"std\": 0.23874672772626637,\n        \"min\": 3.7,\n        \"max\": 4.3,\n        \"num_unique_values\": 4,\n        \"samples\": [\n          4.0,\n          4.3,\n          3.7\n        ],\n        \"semantic_type\": \"\",\n        \"description\": \"\"\n      }\n    },\n    {\n      \"column\": \"Date\",\n      \"properties\": {\n        \"dtype\": \"string\",\n        \"num_unique_values\": 10,\n        \"samples\": [\n          \"PostedPosted 5 days ago\",\n          \"PostedPosted 13 days ago\",\n          \"PostedPosted 30+ days ago\"\n        ],\n        \"semantic_type\": \"\",\n        \"description\": \"\"\n      }\n    },\n    {\n      \"column\": \"Salary\",\n      \"properties\": {\n        \"dtype\": \"string\",\n        \"num_unique_values\": 9,\n        \"samples\": [\n          \"$55 - $90 an hour\",\n          \"$130,000 - $140,000 a year\",\n          \"$155,300 - $232,900 a year\"\n        ],\n        \"semantic_type\": \"\",\n        \"description\": \"\"\n      }\n    },\n    {\n      \"column\": \"Description\",\n      \"properties\": {\n        \"dtype\": \"string\",\n        \"num_unique_values\": 10,\n        \"samples\": [\n          \"Design and build modern data pipelines, data streams, and data service Application Programming Interfaces (APIs).\\nImplement effective metrics and monitoring.\",\n          \"Collaborate with central team data science, insight and CRM teams to employ insight, segmentations and models to improve personalization and targeting of CRM\\u2026\",\n          \"Work with internal customers, ML engineers, and data scientists in Core org, to understand and solve development velocity pain points.\"\n        ],\n        \"semantic_type\": \"\",\n        \"description\": \"\"\n      }\n    },\n    {\n      \"column\": \"Links\",\n      \"properties\": {\n        \"dtype\": \"string\",\n        \"num_unique_values\": 10,\n        \"samples\": [\n          \"https://www.indeed.com/company/Unbound/jobs/Data-Engineer-a8c4ed52930adc19?fccid=1af0db4d7d81bb94&vjs=3\",\n          \"https://www.indeed.com/rc/clk?jk=2c74a47ca7c1be80&fccid=10b9f0a386e74039&vjs=3\",\n          \"https://www.indeed.com/rc/clk?jk=8bdd2924002ceeb9&fccid=43014b1412e0a7b6&vjs=3\"\n        ],\n        \"semantic_type\": \"\",\n        \"description\": \"\"\n      }\n    },\n    {\n      \"column\": \"Descriptions\",\n      \"properties\": {\n        \"dtype\": \"string\",\n        \"num_unique_values\": 10,\n        \"samples\": [\n          \"What is expected of you?\\nYou design data solutions that enable clients to see the whole picture and provide insightful and accurate analysis that helps to build successful businesses.\\nAbout the job:\\nAs a Azure Data Engineering, you use modern data engineering techniques and Advanced Analytics methods to give your clients the information they need. You collect, aggregate, store and reconcile data from various sources, helping to design and build data pipelines, streams, reporting tools, data generators and a whole range of tools to provide information and insight. You know how to read the patterns and trends that influence business outcomes.\\nDay-to-day, you will:\\nGive colleagues and clients the tools to find and use data for routine and non-routine analysis\\nUse your sound eye for business to translate business requirements into technical solutions\\nAnalyze current business practices, processes and procedures to spot future opportunities\\nAssess client needs to build bespoke data design services\\nBuild the building blocks for transforming enterprise data solutions\\nDesign and build modern data pipelines, data streams, and data service Application Programming Interfaces (APIs)\\nCraft the architectures, data warehouses and databases that support access and Advanced Analytics, and bring them to life through modern visualization tools\\nImplement effective metrics and monitoring\\nBe comfortable to make your own decisions and guide your colleagues\\nYour skills and experience likely include:\\nTransforming business needs into technical solutions\\nMapping data and analytics\\nData profiling, cataloguing and mapping to enable the design and build of technical data flows\\nUse proven methods to solve business problems using Azure Data and Analytics services in combination with building data pipelines, data streams and system integration\\nKnowledge of multiple Azure data applications including Azure Databricks\\nExperience in preparing data for and building pipelines and architecture\\nYou probably have a Bachelors or Master\\u2019s degree in a quantitative field such as computer science, applied mathematics, statistics or machine learning \\u2013 or an equivalent combination of education and experience. You\\u2019re likely to be a Microsoft Certified Solutions Associate, Microsoft Certified Solutions Expert, and/or Database Administrator already, and you have been in a similar professional position for around five to seven years.\\nCompensation varies depending on a wide array of factors including but not limited to the specific office location, role, skill set and level of experience.\\nJob Type: Full-time\\nPay: $150,000.00 - $180,000.00 per year\\nBenefits:\\n401(k)\\nDental insurance\\nHealth insurance\\nPaid time off\\nVision insurance\\nCompensation package:\\nYearly pay\\nSchedule:\\n8 hour shift\\nMonday to Friday\\nAbility to commute/relocate:\\nCalifornia: Reliably commute or planning to relocate before starting work (Required)\\nExperience:\\nETL: 3 years (Required)\\nSQL: 6 years (Required)\\nData warehouse: 3 years (Required)\\nWork Location: One location\",\n          \"POSITION: Director of CRM & Data Analytics\\nLOCATION: New York\\nHOURS: Full Time\\nCOMPENSATION: $130K - $140K per Annum\\n\\nCRM VISION:\\nATG will tailor each interaction with every customer to enhance their experience and earn their lifetime loyalty\\n\\nCOMMERCIAL OBJECTIVES\\nMigrate all venues to one CRM System, delivering significant savings in platform overheads\\nReplicate the UK FY24 $3m CRM incremental EBITDA target in the US through leveraging the enhanced data and automation tools\\n\\nNUMBER OF REPORTS\\nDirect: 2 (CRM Manager in place and Data Analyst, to be recruited)\\nIndirect (venues): 14 CRM executives across 16 North American venues\\n\\nKEY RESPONIBILITIES:\\nResponsible for maximizing the value we derive from our data and CRM.\\nTo own and evolve a strategy with the venue marketing and central expert teams to best utilize the new capabilities, identify opportunities, fill gaps, and continue to develop our audience insight and marketing effectiveness\\nImplement a testing and reporting discipline to continuously improve or CRM performance\\nCollaborate with central team data science, insight and CRM teams to employ insight, segmentations and models to improve personalization and targeting of CRM whilst keeping our keeping our customers fully engaged\\nWork on a daily basis with venue marketing teams to enable them to fully utilize the tools at their disposal, optimize the value created through their CRM and develop their audience and market understanding\\nImprove the CRM lifecycle and reduce churn by developing panoramic views of our customers and working with our digital and CRM teams to develop and test propositions and journeys.\\nBring together data to constantly improve our understanding of our customers, modelling the impact of deploying various strategies and building the case for additional investment where required\\nCollaborate across the business to make Customer Insight core to decision making\\nBe an active part of our global CRM, Data and Insight community as we build new capability and realize synergies across disciplines\\n\\nCANDIDATE PROFILE:\\nEssential\\nA track record of improving the value created through Data and CRM\\nDemonstrated ability to influence and drive change throughout the organization\\nA collaborative approach with the ability to work across and influence multiple stakeholders\\nExperience of working with Data Science and CRM teams to implement personalization and automation strategies\\nVery strong analytical skills with ability to \\u2018make sense\\u2019 of data from disparate sources\\nFamiliar with communicating and collaborating with technical and non-technical colleagues and stakeholders\\nCustomer obsessed\\n\\nDesirable\\nData visualization and storytelling skills\\nPython skills.\\n\\nBENEFITS\\n401k, competitive healthcare,\\n\\nNothing beats the energy and excitement of a great live performance. That\\u2019s why our mission is to bring the very best in music, theater, comedy, and more, to the largest possible number of people. Since 1992, we\\u2019ve grown to be a world leader in live entertainment. 10 million people a year attend live performances at one of our 50 iconic venues across North America, the United Kingdom and Germany. That number keeps growing. We partner with the world\\u2019s top creative talent and present critically acclaimed productions which have won more than 80 Tony and Olivier Awards over the years. We also operate some of the world\\u2019s most popular theatre ticketing sites, with 11 million and counting customers getting their tickets directly from us.\\nPeople are at the heart of our success. Our core values - Passionate, Smart, Collaborative and Ambitious \\u2013 are about our people. Thousands of people work for ATG worldwide and it\\u2019s their passion and commitment that allows us to create great live entertainment experiences.\\nLearn more about ATG, visit www.atg.co.uk/\\n\\nATG\\u2019s Inclusion, Diversity, Equity, & Access Mission Statement\\n\\nA Stage for Everyone\\nOur stages are a platform for compelling stories \\u2013 stories that are for all, by all, and of all. We shine our spotlight on our differences and believe that understanding and celebrating these differences makes us better global citizens. We are passionate about the pursuit of true diversity and equality. We strive to make our venues beacons of these ideals in our communities. Onstage and off, we hold ourselves accountable for nurturing an inclusive culture, one in which everyone can bring their authentic selves. At ATG, we provide a stage for everyone.\",\n          \"About Pinterest:\\nMillions of people across the world come to Pinterest to find new ideas every day. It's where they get inspiration, dream about new possibilities and plan for what matters most. Our mission is to help those people find their inspiration and create a life they love. In your role, you'll be challenged to take on work that upholds this mission and pushes Pinterest forward. You'll grow as a person and leader in your field, all the while helping Pinners make their lives better in the positive corner of the internet.\\nOur new progressive work model is called PinFlex, a term that's uniquely Pinterest to describe our flexible approach to living and working. Visit our PinFlex landing page to learn more.\\nPinterest brings millions of people the inspiration to create a life they love for everything; whether that be tonight\\u2019s dinner, next summer\\u2019s vacation, or a dream house down the road. The ML foundation team in Core provides foundational tools and infrastructure used by hundreds of ML engineers across Core org, including recommendations, search, visual search, growth/notifications, content, trust and safety. We aim to ensure that ML systems are healthy (production-grade quality) and fast (for modelers to iterate upon). The job will touch most pieces of ML systems including ML dataset/feature store, training platform, model inference service etc.\\nWhat you\\u2019ll do:\\nDesign and build core components of the ML lifecycle.\\nWork with internal customers, ML engineers, and data scientists in Core org, to understand and solve development velocity pain points\\nWork with the ML platform team and product teams to productionize their models, improve their productivity and unblock ML innovations.\\nWhat we're looking for:\\nExperience with the technologies used on one of the subteams above.\\nSolid communication to solve problems for customers across teams.\\nExperience with production ML systems, preferably the end-to-end lifecycle of an ML model.\\nExperience in Recommendation/Search or Ads systems would be a big plus.\\nColorado based applicants only:\\nThe minimum and maximum salary for this position is $155,300 to $232,900 in Colorado;\\nThis position is eligible for equity; and\\nInformation regarding the culture at Pinterest and benefits available for this position can be found here.\\nThis compensation and benefits information is based on Pinterest\\u2019s good faith estimate as of the date of publication and may be modified in the future. The level of pay within the range will depend on a variety of job-related factors that may include location, travel, shift requirements, relevant prior experience and/or education, or particular skills and expertise.\\n#LI-AK7\\n#LI-REMOTE\\nOur Commitment to Diversity:\\nAt Pinterest, our mission is to bring everyone the inspiration to create a life they love\\u2014and that includes our employees. We\\u2019re taking on the most exciting challenges of our working lives, and we succeed with a team that represents an inclusive and diverse set of identities and backgrounds.\\n\\nNot Specified\\n0\"\n        ],\n        \"semantic_type\": \"\",\n        \"description\": \"\"\n      }\n    }\n  ]\n}"
            }
          },
          "metadata": {},
          "execution_count": 107
        }
      ]
    },
    {
      "cell_type": "code",
      "source": [
        "len(df)"
      ],
      "metadata": {
        "colab": {
          "base_uri": "https://localhost:8080/"
        },
        "id": "WZxQQx15uUf2",
        "outputId": "b7ff165f-a1ae-4d30-be6b-3ab60038b927"
      },
      "id": "WZxQQx15uUf2",
      "execution_count": null,
      "outputs": [
        {
          "output_type": "execute_result",
          "data": {
            "text/plain": [
              "1200"
            ]
          },
          "metadata": {},
          "execution_count": 108
        }
      ]
    },
    {
      "cell_type": "code",
      "source": [
        "df['Date'].notnull().value_counts().sum()"
      ],
      "metadata": {
        "colab": {
          "base_uri": "https://localhost:8080/"
        },
        "id": "xSfdBYh_vEH_",
        "outputId": "85a51279-b437-4aa6-9fa9-4964eb42add6"
      },
      "id": "xSfdBYh_vEH_",
      "execution_count": null,
      "outputs": [
        {
          "output_type": "execute_result",
          "data": {
            "text/plain": [
              "np.int64(1200)"
            ]
          },
          "metadata": {},
          "execution_count": 109
        }
      ]
    },
    {
      "cell_type": "code",
      "source": [
        "from datetime import timedelta\n",
        "\n",
        "# Extract the number of days from the \"Date\" column\n",
        "def extract_days_ago(text):\n",
        "    try:\n",
        "        parts = text.split()\n",
        "        for i, part in enumerate(parts):\n",
        "            if part.isdigit() and 'day' in parts[i+1]:\n",
        "                return int(part)\n",
        "    except:\n",
        "        return None\n",
        "    return None\n",
        "\n",
        "df['days_ago'] = df['Date'].apply(extract_days_ago)\n",
        "\n",
        "# Convert to actual posting date\n",
        "df['date_posted'] = pd.to_datetime('today') - pd.to_timedelta(df['days_ago'], unit='D')\n",
        "\n",
        "# Group by date and count postings\n",
        "df = df.groupby('date_posted').size().reset_index(name='job_postings')\n",
        "\n",
        "# Set date as index and fill missing dates with 0\n",
        "df = df.set_index('date_posted').asfreq('D').fillna(0)\n"
      ],
      "metadata": {
        "id": "79UuX53-xsMX"
      },
      "id": "79UuX53-xsMX",
      "execution_count": null,
      "outputs": []
    },
    {
      "cell_type": "code",
      "source": [
        "df.head()"
      ],
      "metadata": {
        "colab": {
          "base_uri": "https://localhost:8080/",
          "height": 237
        },
        "id": "nYZB23JByDdZ",
        "outputId": "d32fa13e-68c9-4d50-f161-839a558a5928"
      },
      "id": "nYZB23JByDdZ",
      "execution_count": null,
      "outputs": [
        {
          "output_type": "execute_result",
          "data": {
            "text/plain": [
              "                            job_postings\n",
              "date_posted                             \n",
              "2025-06-09 06:27:10.720952             7\n",
              "2025-06-10 06:27:10.720952             5\n",
              "2025-06-11 06:27:10.720952             2\n",
              "2025-06-12 06:27:10.720952             5\n",
              "2025-06-13 06:27:10.720952            10"
            ],
            "text/html": [
              "\n",
              "  <div id=\"df-ec0ab97a-ef43-48a2-9b8e-a4828d441ad9\" class=\"colab-df-container\">\n",
              "    <div>\n",
              "<style scoped>\n",
              "    .dataframe tbody tr th:only-of-type {\n",
              "        vertical-align: middle;\n",
              "    }\n",
              "\n",
              "    .dataframe tbody tr th {\n",
              "        vertical-align: top;\n",
              "    }\n",
              "\n",
              "    .dataframe thead th {\n",
              "        text-align: right;\n",
              "    }\n",
              "</style>\n",
              "<table border=\"1\" class=\"dataframe\">\n",
              "  <thead>\n",
              "    <tr style=\"text-align: right;\">\n",
              "      <th></th>\n",
              "      <th>job_postings</th>\n",
              "    </tr>\n",
              "    <tr>\n",
              "      <th>date_posted</th>\n",
              "      <th></th>\n",
              "    </tr>\n",
              "  </thead>\n",
              "  <tbody>\n",
              "    <tr>\n",
              "      <th>2025-06-09 06:27:10.720952</th>\n",
              "      <td>7</td>\n",
              "    </tr>\n",
              "    <tr>\n",
              "      <th>2025-06-10 06:27:10.720952</th>\n",
              "      <td>5</td>\n",
              "    </tr>\n",
              "    <tr>\n",
              "      <th>2025-06-11 06:27:10.720952</th>\n",
              "      <td>2</td>\n",
              "    </tr>\n",
              "    <tr>\n",
              "      <th>2025-06-12 06:27:10.720952</th>\n",
              "      <td>5</td>\n",
              "    </tr>\n",
              "    <tr>\n",
              "      <th>2025-06-13 06:27:10.720952</th>\n",
              "      <td>10</td>\n",
              "    </tr>\n",
              "  </tbody>\n",
              "</table>\n",
              "</div>\n",
              "    <div class=\"colab-df-buttons\">\n",
              "\n",
              "  <div class=\"colab-df-container\">\n",
              "    <button class=\"colab-df-convert\" onclick=\"convertToInteractive('df-ec0ab97a-ef43-48a2-9b8e-a4828d441ad9')\"\n",
              "            title=\"Convert this dataframe to an interactive table.\"\n",
              "            style=\"display:none;\">\n",
              "\n",
              "  <svg xmlns=\"http://www.w3.org/2000/svg\" height=\"24px\" viewBox=\"0 -960 960 960\">\n",
              "    <path d=\"M120-120v-720h720v720H120Zm60-500h600v-160H180v160Zm220 220h160v-160H400v160Zm0 220h160v-160H400v160ZM180-400h160v-160H180v160Zm440 0h160v-160H620v160ZM180-180h160v-160H180v160Zm440 0h160v-160H620v160Z\"/>\n",
              "  </svg>\n",
              "    </button>\n",
              "\n",
              "  <style>\n",
              "    .colab-df-container {\n",
              "      display:flex;\n",
              "      gap: 12px;\n",
              "    }\n",
              "\n",
              "    .colab-df-convert {\n",
              "      background-color: #E8F0FE;\n",
              "      border: none;\n",
              "      border-radius: 50%;\n",
              "      cursor: pointer;\n",
              "      display: none;\n",
              "      fill: #1967D2;\n",
              "      height: 32px;\n",
              "      padding: 0 0 0 0;\n",
              "      width: 32px;\n",
              "    }\n",
              "\n",
              "    .colab-df-convert:hover {\n",
              "      background-color: #E2EBFA;\n",
              "      box-shadow: 0px 1px 2px rgba(60, 64, 67, 0.3), 0px 1px 3px 1px rgba(60, 64, 67, 0.15);\n",
              "      fill: #174EA6;\n",
              "    }\n",
              "\n",
              "    .colab-df-buttons div {\n",
              "      margin-bottom: 4px;\n",
              "    }\n",
              "\n",
              "    [theme=dark] .colab-df-convert {\n",
              "      background-color: #3B4455;\n",
              "      fill: #D2E3FC;\n",
              "    }\n",
              "\n",
              "    [theme=dark] .colab-df-convert:hover {\n",
              "      background-color: #434B5C;\n",
              "      box-shadow: 0px 1px 3px 1px rgba(0, 0, 0, 0.15);\n",
              "      filter: drop-shadow(0px 1px 2px rgba(0, 0, 0, 0.3));\n",
              "      fill: #FFFFFF;\n",
              "    }\n",
              "  </style>\n",
              "\n",
              "    <script>\n",
              "      const buttonEl =\n",
              "        document.querySelector('#df-ec0ab97a-ef43-48a2-9b8e-a4828d441ad9 button.colab-df-convert');\n",
              "      buttonEl.style.display =\n",
              "        google.colab.kernel.accessAllowed ? 'block' : 'none';\n",
              "\n",
              "      async function convertToInteractive(key) {\n",
              "        const element = document.querySelector('#df-ec0ab97a-ef43-48a2-9b8e-a4828d441ad9');\n",
              "        const dataTable =\n",
              "          await google.colab.kernel.invokeFunction('convertToInteractive',\n",
              "                                                    [key], {});\n",
              "        if (!dataTable) return;\n",
              "\n",
              "        const docLinkHtml = 'Like what you see? Visit the ' +\n",
              "          '<a target=\"_blank\" href=https://colab.research.google.com/notebooks/data_table.ipynb>data table notebook</a>'\n",
              "          + ' to learn more about interactive tables.';\n",
              "        element.innerHTML = '';\n",
              "        dataTable['output_type'] = 'display_data';\n",
              "        await google.colab.output.renderOutput(dataTable, element);\n",
              "        const docLink = document.createElement('div');\n",
              "        docLink.innerHTML = docLinkHtml;\n",
              "        element.appendChild(docLink);\n",
              "      }\n",
              "    </script>\n",
              "  </div>\n",
              "\n",
              "\n",
              "    <div id=\"df-7a07165e-28fe-48da-be08-04f03c26e46b\">\n",
              "      <button class=\"colab-df-quickchart\" onclick=\"quickchart('df-7a07165e-28fe-48da-be08-04f03c26e46b')\"\n",
              "                title=\"Suggest charts\"\n",
              "                style=\"display:none;\">\n",
              "\n",
              "<svg xmlns=\"http://www.w3.org/2000/svg\" height=\"24px\"viewBox=\"0 0 24 24\"\n",
              "     width=\"24px\">\n",
              "    <g>\n",
              "        <path d=\"M19 3H5c-1.1 0-2 .9-2 2v14c0 1.1.9 2 2 2h14c1.1 0 2-.9 2-2V5c0-1.1-.9-2-2-2zM9 17H7v-7h2v7zm4 0h-2V7h2v10zm4 0h-2v-4h2v4z\"/>\n",
              "    </g>\n",
              "</svg>\n",
              "      </button>\n",
              "\n",
              "<style>\n",
              "  .colab-df-quickchart {\n",
              "      --bg-color: #E8F0FE;\n",
              "      --fill-color: #1967D2;\n",
              "      --hover-bg-color: #E2EBFA;\n",
              "      --hover-fill-color: #174EA6;\n",
              "      --disabled-fill-color: #AAA;\n",
              "      --disabled-bg-color: #DDD;\n",
              "  }\n",
              "\n",
              "  [theme=dark] .colab-df-quickchart {\n",
              "      --bg-color: #3B4455;\n",
              "      --fill-color: #D2E3FC;\n",
              "      --hover-bg-color: #434B5C;\n",
              "      --hover-fill-color: #FFFFFF;\n",
              "      --disabled-bg-color: #3B4455;\n",
              "      --disabled-fill-color: #666;\n",
              "  }\n",
              "\n",
              "  .colab-df-quickchart {\n",
              "    background-color: var(--bg-color);\n",
              "    border: none;\n",
              "    border-radius: 50%;\n",
              "    cursor: pointer;\n",
              "    display: none;\n",
              "    fill: var(--fill-color);\n",
              "    height: 32px;\n",
              "    padding: 0;\n",
              "    width: 32px;\n",
              "  }\n",
              "\n",
              "  .colab-df-quickchart:hover {\n",
              "    background-color: var(--hover-bg-color);\n",
              "    box-shadow: 0 1px 2px rgba(60, 64, 67, 0.3), 0 1px 3px 1px rgba(60, 64, 67, 0.15);\n",
              "    fill: var(--button-hover-fill-color);\n",
              "  }\n",
              "\n",
              "  .colab-df-quickchart-complete:disabled,\n",
              "  .colab-df-quickchart-complete:disabled:hover {\n",
              "    background-color: var(--disabled-bg-color);\n",
              "    fill: var(--disabled-fill-color);\n",
              "    box-shadow: none;\n",
              "  }\n",
              "\n",
              "  .colab-df-spinner {\n",
              "    border: 2px solid var(--fill-color);\n",
              "    border-color: transparent;\n",
              "    border-bottom-color: var(--fill-color);\n",
              "    animation:\n",
              "      spin 1s steps(1) infinite;\n",
              "  }\n",
              "\n",
              "  @keyframes spin {\n",
              "    0% {\n",
              "      border-color: transparent;\n",
              "      border-bottom-color: var(--fill-color);\n",
              "      border-left-color: var(--fill-color);\n",
              "    }\n",
              "    20% {\n",
              "      border-color: transparent;\n",
              "      border-left-color: var(--fill-color);\n",
              "      border-top-color: var(--fill-color);\n",
              "    }\n",
              "    30% {\n",
              "      border-color: transparent;\n",
              "      border-left-color: var(--fill-color);\n",
              "      border-top-color: var(--fill-color);\n",
              "      border-right-color: var(--fill-color);\n",
              "    }\n",
              "    40% {\n",
              "      border-color: transparent;\n",
              "      border-right-color: var(--fill-color);\n",
              "      border-top-color: var(--fill-color);\n",
              "    }\n",
              "    60% {\n",
              "      border-color: transparent;\n",
              "      border-right-color: var(--fill-color);\n",
              "    }\n",
              "    80% {\n",
              "      border-color: transparent;\n",
              "      border-right-color: var(--fill-color);\n",
              "      border-bottom-color: var(--fill-color);\n",
              "    }\n",
              "    90% {\n",
              "      border-color: transparent;\n",
              "      border-bottom-color: var(--fill-color);\n",
              "    }\n",
              "  }\n",
              "</style>\n",
              "\n",
              "      <script>\n",
              "        async function quickchart(key) {\n",
              "          const quickchartButtonEl =\n",
              "            document.querySelector('#' + key + ' button');\n",
              "          quickchartButtonEl.disabled = true;  // To prevent multiple clicks.\n",
              "          quickchartButtonEl.classList.add('colab-df-spinner');\n",
              "          try {\n",
              "            const charts = await google.colab.kernel.invokeFunction(\n",
              "                'suggestCharts', [key], {});\n",
              "          } catch (error) {\n",
              "            console.error('Error during call to suggestCharts:', error);\n",
              "          }\n",
              "          quickchartButtonEl.classList.remove('colab-df-spinner');\n",
              "          quickchartButtonEl.classList.add('colab-df-quickchart-complete');\n",
              "        }\n",
              "        (() => {\n",
              "          let quickchartButtonEl =\n",
              "            document.querySelector('#df-7a07165e-28fe-48da-be08-04f03c26e46b button');\n",
              "          quickchartButtonEl.style.display =\n",
              "            google.colab.kernel.accessAllowed ? 'block' : 'none';\n",
              "        })();\n",
              "      </script>\n",
              "    </div>\n",
              "\n",
              "    </div>\n",
              "  </div>\n"
            ],
            "application/vnd.google.colaboratory.intrinsic+json": {
              "type": "dataframe",
              "variable_name": "df",
              "summary": "{\n  \"name\": \"df\",\n  \"rows\": 30,\n  \"fields\": [\n    {\n      \"column\": \"date_posted\",\n      \"properties\": {\n        \"dtype\": \"date\",\n        \"min\": \"2025-06-09 06:27:10.720952\",\n        \"max\": \"2025-07-08 06:27:10.720952\",\n        \"num_unique_values\": 30,\n        \"samples\": [\n          \"2025-07-06 06:27:10.720952\",\n          \"2025-06-24 06:27:10.720952\",\n          \"2025-07-02 06:27:10.720952\"\n        ],\n        \"semantic_type\": \"\",\n        \"description\": \"\"\n      }\n    },\n    {\n      \"column\": \"job_postings\",\n      \"properties\": {\n        \"dtype\": \"number\",\n        \"std\": 30,\n        \"min\": 2,\n        \"max\": 131,\n        \"num_unique_values\": 20,\n        \"samples\": [\n          7,\n          82,\n          56\n        ],\n        \"semantic_type\": \"\",\n        \"description\": \"\"\n      }\n    }\n  ]\n}"
            }
          },
          "metadata": {},
          "execution_count": 111
        }
      ]
    },
    {
      "cell_type": "code",
      "source": [
        "import matplotlib.pyplot as plt\n",
        "plt.plot(df)\n",
        "plt.xticks(rotation=45)\n",
        "plt.title('job_postings Trends')\n",
        "plt.show()"
      ],
      "metadata": {
        "colab": {
          "base_uri": "https://localhost:8080/",
          "height": 505
        },
        "id": "aNvlbWnvxmzs",
        "outputId": "33a1eb1f-055f-4401-d4a2-289eafe7954b"
      },
      "id": "aNvlbWnvxmzs",
      "execution_count": null,
      "outputs": [
        {
          "output_type": "display_data",
          "data": {
            "text/plain": [
              "<Figure size 640x480 with 1 Axes>"
            ],
            "image/png": "[encoded data removed]"
          },
          "metadata": {}
        }
      ]
    },
    {
      "cell_type": "markdown",
      "id": "e6fd341e",
      "metadata": {
        "id": "e6fd341e"
      },
      "source": [
        "### Normalize the Job Postings Time Series"
      ]
    },
    {
      "cell_type": "code",
      "execution_count": null,
      "id": "4f840f5f",
      "metadata": {
        "id": "4f840f5f"
      },
      "outputs": [],
      "source": [
        "from sklearn.preprocessing import MinMaxScaler\n",
        "scaler = MinMaxScaler()\n",
        "scaled_data = scaler.fit_transform(df[['job_postings']])"
      ]
    },
    {
      "cell_type": "markdown",
      "id": "ec430400",
      "metadata": {
        "id": "ec430400"
      },
      "source": [
        "### Create Sequences for LSTM\n",
        "\n",
        "---\n",
        "\n"
      ]
    },
    {
      "cell_type": "code",
      "source": [
        "from tensorflow.keras.models import Sequential\n",
        "from tensorflow.keras.layers import LSTM, Dropout, Dense"
      ],
      "metadata": {
        "id": "Lb_SnJg00lmx"
      },
      "id": "Lb_SnJg00lmx",
      "execution_count": null,
      "outputs": []
    },
    {
      "cell_type": "code",
      "execution_count": null,
      "id": "2ddd978a",
      "metadata": {
        "colab": {
          "base_uri": "https://localhost:8080/"
        },
        "id": "2ddd978a",
        "outputId": "124d8483-765d-4857-8095-939015d2c6e3"
      },
      "outputs": [
        {
          "output_type": "stream",
          "name": "stdout",
          "text": [
            "After sequence creation: <class 'numpy.ndarray'> (23, 7, 1) <class 'numpy.ndarray'> (23, 1)\n"
          ]
        }
      ],
      "source": [
        "def create_sequences(data, seq_length):\n",
        "    X, y = [], []\n",
        "    for i in range(seq_length, len(data)):\n",
        "        X.append(data[i-seq_length:i])\n",
        "        y.append(data[i])\n",
        "    return np.array(X), np.array(y)\n",
        "\n",
        "sequence_length = 7\n",
        "\n",
        "X, y = create_sequences(scaled_data, sequence_length)\n",
        "\n",
        "print(\"After sequence creation:\", type(X), X.shape, type(y), y.shape)"
      ]
    },
    {
      "cell_type": "code",
      "source": [
        "print(\"total time steps available:\", len(scaled_data))"
      ],
      "metadata": {
        "colab": {
          "base_uri": "https://localhost:8080/"
        },
        "id": "LsNLymEtsDOi",
        "outputId": "cbb7da3d-138c-46b1-9ae0-556b35350191"
      },
      "id": "LsNLymEtsDOi",
      "execution_count": null,
      "outputs": [
        {
          "output_type": "stream",
          "name": "stdout",
          "text": [
            "total time steps available: 30\n"
          ]
        }
      ]
    },
    {
      "cell_type": "markdown",
      "source": [
        "### Train And Test Split"
      ],
      "metadata": {
        "id": "v9tPBNO_zTPr"
      },
      "id": "v9tPBNO_zTPr"
    },
    {
      "cell_type": "code",
      "execution_count": null,
      "id": "14d4b7de",
      "metadata": {
        "id": "14d4b7de"
      },
      "outputs": [],
      "source": [
        "split = int(len(X) * 0.8)\n",
        "X_train, X_test = X[:split], X[split:]\n",
        "y_train, y_test = y[:split], y[split:]"
      ]
    },
    {
      "cell_type": "code",
      "source": [
        "# Reshape input for LSTM [samples, time_steps, features]\n",
        "X_train = X_train.reshape(X_train.shape[0], X_train.shape[1], 1)\n",
        "X_test = X_test.reshape(X_test.shape[0], X_test.shape[1], 1)\n"
      ],
      "metadata": {
        "id": "WNHBx8yfq3Zd"
      },
      "id": "WNHBx8yfq3Zd",
      "execution_count": null,
      "outputs": []
    },
    {
      "cell_type": "code",
      "source": [
        "print(type(X_train), X_train.shape)"
      ],
      "metadata": {
        "colab": {
          "base_uri": "https://localhost:8080/"
        },
        "id": "dnR_KC81rf0o",
        "outputId": "5445fc92-b378-43c1-c146-34e04a670937"
      },
      "id": "dnR_KC81rf0o",
      "execution_count": null,
      "outputs": [
        {
          "output_type": "stream",
          "name": "stdout",
          "text": [
            "<class 'numpy.ndarray'> (18, 7, 1)\n"
          ]
        }
      ]
    },
    {
      "cell_type": "markdown",
      "id": "a5fae86c",
      "metadata": {
        "id": "a5fae86c"
      },
      "source": [
        "### Build and Train the LSTM Model"
      ]
    },
    {
      "cell_type": "code",
      "execution_count": null,
      "id": "3296a8d7",
      "metadata": {
        "colab": {
          "base_uri": "https://localhost:8080/"
        },
        "id": "3296a8d7",
        "outputId": "e9bc4350-fc6e-4648-b575-6f9b3a0f8f3d"
      },
      "outputs": [
        {
          "output_type": "stream",
          "name": "stdout",
          "text": [
            "Epoch 1/30\n"
          ]
        },
        {
          "output_type": "stream",
          "name": "stderr",
          "text": [
            "/usr/local/lib/python3.11/dist-packages/keras/src/layers/rnn/rnn.py:200: UserWarning: Do not pass an `input_shape`/`input_dim` argument to a layer. When using Sequential models, prefer using an `Input(shape)` object as the first layer in the model instead.\n",
            "  super().__init__(**kwargs)\n"
          ]
        },
        {
          "output_type": "stream",
          "name": "stdout",
          "text": [
            "\u001b[1m5/5\u001b[0m \u001b[32m━━━━━━━━━━━━━━━━━━━━\u001b[0m\u001b[37m\u001b[0m \u001b[1m4s\u001b[0m 12ms/step - loss: 0.0148\n",
            "Epoch 2/30\n",
            "\u001b[1m5/5\u001b[0m \u001b[32m━━━━━━━━━━━━━━━━━━━━\u001b[0m\u001b[37m\u001b[0m \u001b[1m0s\u001b[0m 11ms/step - loss: 0.0063\n",
            "Epoch 3/30\n",
            "\u001b[1m5/5\u001b[0m \u001b[32m━━━━━━━━━━━━━━━━━━━━\u001b[0m\u001b[37m\u001b[0m \u001b[1m0s\u001b[0m 11ms/step - loss: 0.0068\n",
            "Epoch 4/30\n",
            "\u001b[1m5/5\u001b[0m \u001b[32m━━━━━━━━━━━━━━━━━━━━\u001b[0m\u001b[37m\u001b[0m \u001b[1m0s\u001b[0m 11ms/step - loss: 0.0060\n",
            "Epoch 5/30\n",
            "\u001b[1m5/5\u001b[0m \u001b[32m━━━━━━━━━━━━━━━━━━━━\u001b[0m\u001b[37m\u001b[0m \u001b[1m0s\u001b[0m 11ms/step - loss: 0.0057\n",
            "Epoch 6/30\n",
            "\u001b[1m5/5\u001b[0m \u001b[32m━━━━━━━━━━━━━━━━━━━━\u001b[0m\u001b[37m\u001b[0m \u001b[1m0s\u001b[0m 11ms/step - loss: 0.0060\n",
            "Epoch 7/30\n",
            "\u001b[1m5/5\u001b[0m \u001b[32m━━━━━━━━━━━━━━━━━━━━\u001b[0m\u001b[37m\u001b[0m \u001b[1m0s\u001b[0m 13ms/step - loss: 0.0061\n",
            "Epoch 8/30\n",
            "\u001b[1m5/5\u001b[0m \u001b[32m━━━━━━━━━━━━━━━━━━━━\u001b[0m\u001b[37m\u001b[0m \u001b[1m0s\u001b[0m 11ms/step - loss: 0.0047\n",
            "Epoch 9/30\n",
            "\u001b[1m5/5\u001b[0m \u001b[32m━━━━━━━━━━━━━━━━━━━━\u001b[0m\u001b[37m\u001b[0m \u001b[1m0s\u001b[0m 11ms/step - loss: 0.0058\n",
            "Epoch 10/30\n",
            "\u001b[1m5/5\u001b[0m \u001b[32m━━━━━━━━━━━━━━━━━━━━\u001b[0m\u001b[37m\u001b[0m \u001b[1m0s\u001b[0m 11ms/step - loss: 0.0067\n",
            "Epoch 11/30\n",
            "\u001b[1m5/5\u001b[0m \u001b[32m━━━━━━━━━━━━━━━━━━━━\u001b[0m\u001b[37m\u001b[0m \u001b[1m0s\u001b[0m 11ms/step - loss: 0.0055\n",
            "Epoch 12/30\n",
            "\u001b[1m5/5\u001b[0m \u001b[32m━━━━━━━━━━━━━━━━━━━━\u001b[0m\u001b[37m\u001b[0m \u001b[1m0s\u001b[0m 18ms/step - loss: 0.0068\n",
            "Epoch 13/30\n",
            "\u001b[1m5/5\u001b[0m \u001b[32m━━━━━━━━━━━━━━━━━━━━\u001b[0m\u001b[37m\u001b[0m \u001b[1m0s\u001b[0m 19ms/step - loss: 0.0051\n",
            "Epoch 14/30\n",
            "\u001b[1m5/5\u001b[0m \u001b[32m━━━━━━━━━━━━━━━━━━━━\u001b[0m\u001b[37m\u001b[0m \u001b[1m0s\u001b[0m 20ms/step - loss: 0.0048\n",
            "Epoch 15/30\n",
            "\u001b[1m5/5\u001b[0m \u001b[32m━━━━━━━━━━━━━━━━━━━━\u001b[0m\u001b[37m\u001b[0m \u001b[1m0s\u001b[0m 19ms/step - loss: 0.0039\n",
            "Epoch 16/30\n",
            "\u001b[1m5/5\u001b[0m \u001b[32m━━━━━━━━━━━━━━━━━━━━\u001b[0m\u001b[37m\u001b[0m \u001b[1m0s\u001b[0m 17ms/step - loss: 0.0068\n",
            "Epoch 17/30\n",
            "\u001b[1m5/5\u001b[0m \u001b[32m━━━━━━━━━━━━━━━━━━━━\u001b[0m\u001b[37m\u001b[0m \u001b[1m0s\u001b[0m 17ms/step - loss: 0.0036\n",
            "Epoch 18/30\n",
            "\u001b[1m5/5\u001b[0m \u001b[32m━━━━━━━━━━━━━━━━━━━━\u001b[0m\u001b[37m\u001b[0m \u001b[1m0s\u001b[0m 17ms/step - loss: 0.0055\n",
            "Epoch 19/30\n",
            "\u001b[1m5/5\u001b[0m \u001b[32m━━━━━━━━━━━━━━━━━━━━\u001b[0m\u001b[37m\u001b[0m \u001b[1m0s\u001b[0m 18ms/step - loss: 0.0102\n",
            "Epoch 20/30\n",
            "\u001b[1m5/5\u001b[0m \u001b[32m━━━━━━━━━━━━━━━━━━━━\u001b[0m\u001b[37m\u001b[0m \u001b[1m0s\u001b[0m 17ms/step - loss: 0.0045\n",
            "Epoch 21/30\n",
            "\u001b[1m5/5\u001b[0m \u001b[32m━━━━━━━━━━━━━━━━━━━━\u001b[0m\u001b[37m\u001b[0m \u001b[1m0s\u001b[0m 16ms/step - loss: 0.0053\n",
            "Epoch 22/30\n",
            "\u001b[1m5/5\u001b[0m \u001b[32m━━━━━━━━━━━━━━━━━━━━\u001b[0m\u001b[37m\u001b[0m \u001b[1m0s\u001b[0m 16ms/step - loss: 0.0044    \n",
            "Epoch 23/30\n",
            "\u001b[1m5/5\u001b[0m \u001b[32m━━━━━━━━━━━━━━━━━━━━\u001b[0m\u001b[37m\u001b[0m \u001b[1m0s\u001b[0m 22ms/step - loss: 0.0044\n",
            "Epoch 24/30\n",
            "\u001b[1m5/5\u001b[0m \u001b[32m━━━━━━━━━━━━━━━━━━━━\u001b[0m\u001b[37m\u001b[0m \u001b[1m0s\u001b[0m 16ms/step - loss: 0.0072\n",
            "Epoch 25/30\n",
            "\u001b[1m5/5\u001b[0m \u001b[32m━━━━━━━━━━━━━━━━━━━━\u001b[0m\u001b[37m\u001b[0m \u001b[1m0s\u001b[0m 19ms/step - loss: 0.0043\n",
            "Epoch 26/30\n",
            "\u001b[1m5/5\u001b[0m \u001b[32m━━━━━━━━━━━━━━━━━━━━\u001b[0m\u001b[37m\u001b[0m \u001b[1m0s\u001b[0m 18ms/step - loss: 0.0053\n",
            "Epoch 27/30\n",
            "\u001b[1m5/5\u001b[0m \u001b[32m━━━━━━━━━━━━━━━━━━━━\u001b[0m\u001b[37m\u001b[0m \u001b[1m0s\u001b[0m 18ms/step - loss: 0.0058\n",
            "Epoch 28/30\n",
            "\u001b[1m5/5\u001b[0m \u001b[32m━━━━━━━━━━━━━━━━━━━━\u001b[0m\u001b[37m\u001b[0m \u001b[1m0s\u001b[0m 19ms/step - loss: 0.0074\n",
            "Epoch 29/30\n",
            "\u001b[1m5/5\u001b[0m \u001b[32m━━━━━━━━━━━━━━━━━━━━\u001b[0m\u001b[37m\u001b[0m \u001b[1m0s\u001b[0m 19ms/step - loss: 0.0041\n",
            "Epoch 30/30\n",
            "\u001b[1m5/5\u001b[0m \u001b[32m━━━━━━━━━━━━━━━━━━━━\u001b[0m\u001b[37m\u001b[0m \u001b[1m0s\u001b[0m 19ms/step - loss: 0.0044\n"
          ]
        },
        {
          "output_type": "execute_result",
          "data": {
            "text/plain": [
              "<keras.src.callbacks.history.History at 0x7b7b3f76d690>"
            ]
          },
          "metadata": {},
          "execution_count": 120
        }
      ],
      "source": [
        "from sklearn.metrics import mean_squared_error\n",
        "\n",
        "model = Sequential([\n",
        "    LSTM(64, return_sequences=True, input_shape=(X_train.shape[1], 1)),\n",
        "    Dropout(0.2),\n",
        "    LSTM(64),\n",
        "    Dropout(0.2),\n",
        "    Dense(1)\n",
        "])\n",
        "\n",
        "model.compile(optimizer='adam', loss='mean_squared_error')\n",
        "\n",
        "model.fit(X_train, y_train, epochs=30, batch_size=4)\n"
      ]
    },
    {
      "cell_type": "code",
      "source": [
        "model.summary()"
      ],
      "metadata": {
        "colab": {
          "base_uri": "https://localhost:8080/",
          "height": 310
        },
        "id": "zfNIJNmP2pIY",
        "outputId": "37913fac-5d4b-4eef-b1aa-efa23c190eda"
      },
      "id": "zfNIJNmP2pIY",
      "execution_count": null,
      "outputs": [
        {
          "output_type": "display_data",
          "data": {
            "text/plain": [
              "\u001b[1mModel: \"sequential_3\"\u001b[0m\n"
            ],
            "text/html": [
              "<pre style=\"white-space:pre;overflow-x:auto;line-height:normal;font-family:Menlo,'DejaVu Sans Mono',consolas,'Courier New',monospace\"><span style=\"font-weight: bold\">Model: \"sequential_3\"</span>\n",
              "</pre>\n"
            ]
          },
          "metadata": {}
        },
        {
          "output_type": "display_data",
          "data": {
            "text/plain": [
              "┏━━━━━━━━━━━━━━━━━━━━━━━━━━━━━━━━━┳━━━━━━━━━━━━━━━━━━━━━━━━┳━━━━━━━━━━━━━━━┓\n",
              "┃\u001b[1m \u001b[0m\u001b[1mLayer (type)                   \u001b[0m\u001b[1m \u001b[0m┃\u001b[1m \u001b[0m\u001b[1mOutput Shape          \u001b[0m\u001b[1m \u001b[0m┃\u001b[1m \u001b[0m\u001b[1m      Param #\u001b[0m\u001b[1m \u001b[0m┃\n",
              "┡━━━━━━━━━━━━━━━━━━━━━━━━━━━━━━━━━╇━━━━━━━━━━━━━━━━━━━━━━━━╇━━━━━━━━━━━━━━━┩\n",
              "│ lstm_6 (\u001b[38;5;33mLSTM\u001b[0m)                   │ (\u001b[38;5;45mNone\u001b[0m, \u001b[38;5;34m7\u001b[0m, \u001b[38;5;34m64\u001b[0m)          │        \u001b[38;5;34m16,896\u001b[0m │\n",
              "├─────────────────────────────────┼────────────────────────┼───────────────┤\n",
              "│ dropout_6 (\u001b[38;5;33mDropout\u001b[0m)             │ (\u001b[38;5;45mNone\u001b[0m, \u001b[38;5;34m7\u001b[0m, \u001b[38;5;34m64\u001b[0m)          │             \u001b[38;5;34m0\u001b[0m │\n",
              "├─────────────────────────────────┼────────────────────────┼───────────────┤\n",
              "│ lstm_7 (\u001b[38;5;33mLSTM\u001b[0m)                   │ (\u001b[38;5;45mNone\u001b[0m, \u001b[38;5;34m64\u001b[0m)             │        \u001b[38;5;34m33,024\u001b[0m │\n",
              "├─────────────────────────────────┼────────────────────────┼───────────────┤\n",
              "│ dropout_7 (\u001b[38;5;33mDropout\u001b[0m)             │ (\u001b[38;5;45mNone\u001b[0m, \u001b[38;5;34m64\u001b[0m)             │             \u001b[38;5;34m0\u001b[0m │\n",
              "├─────────────────────────────────┼────────────────────────┼───────────────┤\n",
              "│ dense_3 (\u001b[38;5;33mDense\u001b[0m)                 │ (\u001b[38;5;45mNone\u001b[0m, \u001b[38;5;34m1\u001b[0m)              │            \u001b[38;5;34m65\u001b[0m │\n",
              "└─────────────────────────────────┴────────────────────────┴───────────────┘\n"
            ],
            "text/html": [
              "<pre style=\"white-space:pre;overflow-x:auto;line-height:normal;font-family:Menlo,'DejaVu Sans Mono',consolas,'Courier New',monospace\">┏━━━━━━━━━━━━━━━━━━━━━━━━━━━━━━━━━┳━━━━━━━━━━━━━━━━━━━━━━━━┳━━━━━━━━━━━━━━━┓\n",
              "┃<span style=\"font-weight: bold\"> Layer (type)                    </span>┃<span style=\"font-weight: bold\"> Output Shape           </span>┃<span style=\"font-weight: bold\">       Param # </span>┃\n",
              "┡━━━━━━━━━━━━━━━━━━━━━━━━━━━━━━━━━╇━━━━━━━━━━━━━━━━━━━━━━━━╇━━━━━━━━━━━━━━━┩\n",
              "│ lstm_6 (<span style=\"color: #0087ff; text-decoration-color: #0087ff\">LSTM</span>)                   │ (<span style=\"color: #00d7ff; text-decoration-color: #00d7ff\">None</span>, <span style=\"color: #00af00; text-decoration-color: #00af00\">7</span>, <span style=\"color: #00af00; text-decoration-color: #00af00\">64</span>)          │        <span style=\"color: #00af00; text-decoration-color: #00af00\">16,896</span> │\n",
              "├─────────────────────────────────┼────────────────────────┼───────────────┤\n",
              "│ dropout_6 (<span style=\"color: #0087ff; text-decoration-color: #0087ff\">Dropout</span>)             │ (<span style=\"color: #00d7ff; text-decoration-color: #00d7ff\">None</span>, <span style=\"color: #00af00; text-decoration-color: #00af00\">7</span>, <span style=\"color: #00af00; text-decoration-color: #00af00\">64</span>)          │             <span style=\"color: #00af00; text-decoration-color: #00af00\">0</span> │\n",
              "├─────────────────────────────────┼────────────────────────┼───────────────┤\n",
              "│ lstm_7 (<span style=\"color: #0087ff; text-decoration-color: #0087ff\">LSTM</span>)                   │ (<span style=\"color: #00d7ff; text-decoration-color: #00d7ff\">None</span>, <span style=\"color: #00af00; text-decoration-color: #00af00\">64</span>)             │        <span style=\"color: #00af00; text-decoration-color: #00af00\">33,024</span> │\n",
              "├─────────────────────────────────┼────────────────────────┼───────────────┤\n",
              "│ dropout_7 (<span style=\"color: #0087ff; text-decoration-color: #0087ff\">Dropout</span>)             │ (<span style=\"color: #00d7ff; text-decoration-color: #00d7ff\">None</span>, <span style=\"color: #00af00; text-decoration-color: #00af00\">64</span>)             │             <span style=\"color: #00af00; text-decoration-color: #00af00\">0</span> │\n",
              "├─────────────────────────────────┼────────────────────────┼───────────────┤\n",
              "│ dense_3 (<span style=\"color: #0087ff; text-decoration-color: #0087ff\">Dense</span>)                 │ (<span style=\"color: #00d7ff; text-decoration-color: #00d7ff\">None</span>, <span style=\"color: #00af00; text-decoration-color: #00af00\">1</span>)              │            <span style=\"color: #00af00; text-decoration-color: #00af00\">65</span> │\n",
              "└─────────────────────────────────┴────────────────────────┴───────────────┘\n",
              "</pre>\n"
            ]
          },
          "metadata": {}
        },
        {
          "output_type": "display_data",
          "data": {
            "text/plain": [
              "\u001b[1m Total params: \u001b[0m\u001b[38;5;34m149,957\u001b[0m (585.77 KB)\n"
            ],
            "text/html": [
              "<pre style=\"white-space:pre;overflow-x:auto;line-height:normal;font-family:Menlo,'DejaVu Sans Mono',consolas,'Courier New',monospace\"><span style=\"font-weight: bold\"> Total params: </span><span style=\"color: #00af00; text-decoration-color: #00af00\">149,957</span> (585.77 KB)\n",
              "</pre>\n"
            ]
          },
          "metadata": {}
        },
        {
          "output_type": "display_data",
          "data": {
            "text/plain": [
              "\u001b[1m Trainable params: \u001b[0m\u001b[38;5;34m49,985\u001b[0m (195.25 KB)\n"
            ],
            "text/html": [
              "<pre style=\"white-space:pre;overflow-x:auto;line-height:normal;font-family:Menlo,'DejaVu Sans Mono',consolas,'Courier New',monospace\"><span style=\"font-weight: bold\"> Trainable params: </span><span style=\"color: #00af00; text-decoration-color: #00af00\">49,985</span> (195.25 KB)\n",
              "</pre>\n"
            ]
          },
          "metadata": {}
        },
        {
          "output_type": "display_data",
          "data": {
            "text/plain": [
              "\u001b[1m Non-trainable params: \u001b[0m\u001b[38;5;34m0\u001b[0m (0.00 B)\n"
            ],
            "text/html": [
              "<pre style=\"white-space:pre;overflow-x:auto;line-height:normal;font-family:Menlo,'DejaVu Sans Mono',consolas,'Courier New',monospace\"><span style=\"font-weight: bold\"> Non-trainable params: </span><span style=\"color: #00af00; text-decoration-color: #00af00\">0</span> (0.00 B)\n",
              "</pre>\n"
            ]
          },
          "metadata": {}
        },
        {
          "output_type": "display_data",
          "data": {
            "text/plain": [
              "\u001b[1m Optimizer params: \u001b[0m\u001b[38;5;34m99,972\u001b[0m (390.52 KB)\n"
            ],
            "text/html": [
              "<pre style=\"white-space:pre;overflow-x:auto;line-height:normal;font-family:Menlo,'DejaVu Sans Mono',consolas,'Courier New',monospace\"><span style=\"font-weight: bold\"> Optimizer params: </span><span style=\"color: #00af00; text-decoration-color: #00af00\">99,972</span> (390.52 KB)\n",
              "</pre>\n"
            ]
          },
          "metadata": {}
        }
      ]
    },
    {
      "cell_type": "markdown",
      "id": "008bcb26",
      "metadata": {
        "id": "008bcb26"
      },
      "source": [
        "### Evaluate Model and Forecast"
      ]
    },
    {
      "cell_type": "code",
      "execution_count": null,
      "id": "7359a817",
      "metadata": {
        "colab": {
          "base_uri": "https://localhost:8080/"
        },
        "id": "7359a817",
        "outputId": "e2a5c96d-ce14-45fe-fa46-871197b16b4a"
      },
      "outputs": [
        {
          "output_type": "stream",
          "name": "stdout",
          "text": [
            "\u001b[1m1/1\u001b[0m \u001b[32m━━━━━━━━━━━━━━━━━━━━\u001b[0m\u001b[37m\u001b[0m \u001b[1m0s\u001b[0m 340ms/step\n",
            "RMSE: 64.70\n"
          ]
        }
      ],
      "source": [
        "# Calculating RMSE performance metrics\n",
        "predictions = model.predict(X_test)\n",
        "predictions = scaler.inverse_transform(predictions)\n",
        "actual = scaler.inverse_transform(y_test)\n",
        "\n",
        "rmse = np.sqrt(mean_squared_error(actual, predictions))\n",
        "print(f\"RMSE: {rmse:.2f}\")\n"
      ]
    },
    {
      "cell_type": "code",
      "execution_count": null,
      "id": "68992b77",
      "metadata": {
        "colab": {
          "base_uri": "https://localhost:8080/"
        },
        "id": "68992b77",
        "outputId": "1a037f96-2491-46fb-c158-c44d7c23f5e3"
      },
      "outputs": [
        {
          "output_type": "stream",
          "name": "stdout",
          "text": [
            "\u001b[1m1/1\u001b[0m \u001b[32m━━━━━━━━━━━━━━━━━━━━\u001b[0m\u001b[37m\u001b[0m \u001b[1m0s\u001b[0m 312ms/step\n",
            "\u001b[1m1/1\u001b[0m \u001b[32m━━━━━━━━━━━━━━━━━━━━\u001b[0m\u001b[37m\u001b[0m \u001b[1m0s\u001b[0m 36ms/step\n",
            "\u001b[1m1/1\u001b[0m \u001b[32m━━━━━━━━━━━━━━━━━━━━\u001b[0m\u001b[37m\u001b[0m \u001b[1m0s\u001b[0m 35ms/step\n",
            "\u001b[1m1/1\u001b[0m \u001b[32m━━━━━━━━━━━━━━━━━━━━\u001b[0m\u001b[37m\u001b[0m \u001b[1m0s\u001b[0m 41ms/step\n",
            "\u001b[1m1/1\u001b[0m \u001b[32m━━━━━━━━━━━━━━━━━━━━\u001b[0m\u001b[37m\u001b[0m \u001b[1m0s\u001b[0m 38ms/step\n",
            "\u001b[1m1/1\u001b[0m \u001b[32m━━━━━━━━━━━━━━━━━━━━\u001b[0m\u001b[37m\u001b[0m \u001b[1m0s\u001b[0m 34ms/step\n",
            "\u001b[1m1/1\u001b[0m \u001b[32m━━━━━━━━━━━━━━━━━━━━\u001b[0m\u001b[37m\u001b[0m \u001b[1m0s\u001b[0m 37ms/step\n",
            "\u001b[1m1/1\u001b[0m \u001b[32m━━━━━━━━━━━━━━━━━━━━\u001b[0m\u001b[37m\u001b[0m \u001b[1m0s\u001b[0m 35ms/step\n",
            "\u001b[1m1/1\u001b[0m \u001b[32m━━━━━━━━━━━━━━━━━━━━\u001b[0m\u001b[37m\u001b[0m \u001b[1m0s\u001b[0m 37ms/step\n",
            "\u001b[1m1/1\u001b[0m \u001b[32m━━━━━━━━━━━━━━━━━━━━\u001b[0m\u001b[37m\u001b[0m \u001b[1m0s\u001b[0m 38ms/step\n",
            "\u001b[1m1/1\u001b[0m \u001b[32m━━━━━━━━━━━━━━━━━━━━\u001b[0m\u001b[37m\u001b[0m \u001b[1m0s\u001b[0m 35ms/step\n",
            "\u001b[1m1/1\u001b[0m \u001b[32m━━━━━━━━━━━━━━━━━━━━\u001b[0m\u001b[37m\u001b[0m \u001b[1m0s\u001b[0m 35ms/step\n",
            "\u001b[1m1/1\u001b[0m \u001b[32m━━━━━━━━━━━━━━━━━━━━\u001b[0m\u001b[37m\u001b[0m \u001b[1m0s\u001b[0m 37ms/step\n",
            "\u001b[1m1/1\u001b[0m \u001b[32m━━━━━━━━━━━━━━━━━━━━\u001b[0m\u001b[37m\u001b[0m \u001b[1m0s\u001b[0m 36ms/step\n",
            "\u001b[1m1/1\u001b[0m \u001b[32m━━━━━━━━━━━━━━━━━━━━\u001b[0m\u001b[37m\u001b[0m \u001b[1m0s\u001b[0m 35ms/step\n",
            "\u001b[1m1/1\u001b[0m \u001b[32m━━━━━━━━━━━━━━━━━━━━\u001b[0m\u001b[37m\u001b[0m \u001b[1m0s\u001b[0m 34ms/step\n",
            "\u001b[1m1/1\u001b[0m \u001b[32m━━━━━━━━━━━━━━━━━━━━\u001b[0m\u001b[37m\u001b[0m \u001b[1m0s\u001b[0m 34ms/step\n",
            "\u001b[1m1/1\u001b[0m \u001b[32m━━━━━━━━━━━━━━━━━━━━\u001b[0m\u001b[37m\u001b[0m \u001b[1m0s\u001b[0m 36ms/step\n",
            "\u001b[1m1/1\u001b[0m \u001b[32m━━━━━━━━━━━━━━━━━━━━\u001b[0m\u001b[37m\u001b[0m \u001b[1m0s\u001b[0m 38ms/step\n",
            "\u001b[1m1/1\u001b[0m \u001b[32m━━━━━━━━━━━━━━━━━━━━\u001b[0m\u001b[37m\u001b[0m \u001b[1m0s\u001b[0m 35ms/step\n",
            "\u001b[1m1/1\u001b[0m \u001b[32m━━━━━━━━━━━━━━━━━━━━\u001b[0m\u001b[37m\u001b[0m \u001b[1m0s\u001b[0m 37ms/step\n",
            "\u001b[1m1/1\u001b[0m \u001b[32m━━━━━━━━━━━━━━━━━━━━\u001b[0m\u001b[37m\u001b[0m \u001b[1m0s\u001b[0m 40ms/step\n",
            "\u001b[1m1/1\u001b[0m \u001b[32m━━━━━━━━━━━━━━━━━━━━\u001b[0m\u001b[37m\u001b[0m \u001b[1m0s\u001b[0m 36ms/step\n",
            "\u001b[1m1/1\u001b[0m \u001b[32m━━━━━━━━━━━━━━━━━━━━\u001b[0m\u001b[37m\u001b[0m \u001b[1m0s\u001b[0m 35ms/step\n",
            "\u001b[1m1/1\u001b[0m \u001b[32m━━━━━━━━━━━━━━━━━━━━\u001b[0m\u001b[37m\u001b[0m \u001b[1m0s\u001b[0m 36ms/step\n",
            "\u001b[1m1/1\u001b[0m \u001b[32m━━━━━━━━━━━━━━━━━━━━\u001b[0m\u001b[37m\u001b[0m \u001b[1m0s\u001b[0m 35ms/step\n",
            "\u001b[1m1/1\u001b[0m \u001b[32m━━━━━━━━━━━━━━━━━━━━\u001b[0m\u001b[37m\u001b[0m \u001b[1m0s\u001b[0m 36ms/step\n",
            "\u001b[1m1/1\u001b[0m \u001b[32m━━━━━━━━━━━━━━━━━━━━\u001b[0m\u001b[37m\u001b[0m \u001b[1m0s\u001b[0m 35ms/step\n",
            "\u001b[1m1/1\u001b[0m \u001b[32m━━━━━━━━━━━━━━━━━━━━\u001b[0m\u001b[37m\u001b[0m \u001b[1m0s\u001b[0m 36ms/step\n",
            "\u001b[1m1/1\u001b[0m \u001b[32m━━━━━━━━━━━━━━━━━━━━\u001b[0m\u001b[37m\u001b[0m \u001b[1m0s\u001b[0m 34ms/step\n"
          ]
        }
      ],
      "source": [
        "last_seq = scaled_data[-sequence_length:]\n",
        "forecast = []\n",
        "current = last_seq.reshape(1, sequence_length, 1)\n",
        "\n",
        "for _ in range(30):\n",
        "    next_val = model.predict(current)[0][0]\n",
        "    forecast.append(next_val)\n",
        "    current = np.append(current[:, 1:, :], [[[next_val]]], axis=1)\n",
        "\n",
        "forecast = scaler.inverse_transform(np.array(forecast).reshape(-1, 1))\n"
      ]
    },
    {
      "cell_type": "markdown",
      "source": [
        "### Demonstration For Prediction For Next 30 Days"
      ],
      "metadata": {
        "id": "BjSH-WgS1a_g"
      },
      "id": "BjSH-WgS1a_g"
    },
    {
      "cell_type": "code",
      "execution_count": null,
      "id": "9f13c176",
      "metadata": {
        "colab": {
          "base_uri": "https://localhost:8080/",
          "height": 617
        },
        "id": "9f13c176",
        "outputId": "62064da9-070f-4401-9715-6ebee68e658b"
      },
      "outputs": [
        {
          "output_type": "display_data",
          "data": {
            "text/plain": [
              "<Figure size 1200x600 with 1 Axes>"
            ],
            "image/png": "[encoded data removed]"
          },
          "metadata": {}
        }
      ],
      "source": [
        "forecast_dates = pd.date_range(df.index[-1] + pd.Timedelta(days=1), periods=30)\n",
        "\n",
        "plt.figure(figsize=(12, 6))\n",
        "plt.plot(df.index[-60:], df['job_postings'][-60:], label=\"Actual\")\n",
        "plt.plot(forecast_dates, forecast, label=\"Forecast\", linestyle=\"--\")\n",
        "plt.title(\"30-Day Forecast of AI Job Postings\")\n",
        "plt.xlabel(\"Date\")\n",
        "plt.ylabel(\"Job Postings\")\n",
        "plt.xticks(rotation=45)\n",
        "plt.legend()\n",
        "plt.grid(True)\n",
        "plt.show()\n"
      ]
    }
  ],
  "metadata": {
    "colab": {
      "provenance": []
    },
    "language_info": {
      "name": "python"
    },
    "kernelspec": {
      "name": "python3",
      "display_name": "Python 3"
    }
  },
  "nbformat": 4,
  "nbformat_minor": 5
}